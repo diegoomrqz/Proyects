{
 "cells": [
  {
   "cell_type": "markdown",
   "metadata": {},
   "source": [
    "# Modelo de detección de clientes de Beta Bank en riesgo de cancelar cuenta.\n",
    "\n",
    "El objetivo del presente trabajo es construir un modelo predictivo de aprendizaje supervisado para detectar clientes de Beta Bank en riesgo de cancelar sus cuentas. \n",
    "\n",
    "Se examina una base de datos de clientes actuales o pasados que contiene identificador de cliente, apellido, edad, género, país, balance, número de productos, score crediticio, salario estimado, si tiene una tarjeta de crédito, si es cliente activo y si ha cancelado su cuenta. Esta base de datos se segmenta para entrenamiento, validación y prueba. Se consideran tres modelos: **Regresión Logística, Árbol de Decisión y Bosque Aleatorio.** Para cada modelo se realizan codificación, estandarización y escalado de datos. Posteriormente se hace una exploración para optimizar los hiperparámetrs sin considerar el desequilibrio de clases. Se mejoran los modelos utilizando diferentes enfoques para corregir el desequilibrio. Se calculan y comparan el valor **F1** y la métrica **AUC-ROC** para cada modelo y se elige el modelo final en base a las mejores métricas.\n",
    "\n",
    "## Importación de paquetes y librerías\n",
    "\n",
    "Se importan los paquetes necesarios para el desarrollo de este trabajo, principalmente de las librerías pandas y sklearn."
   ]
  },
  {
   "cell_type": "code",
   "execution_count": 1,
   "metadata": {},
   "outputs": [],
   "source": [
    "import pandas as pd\n",
    "import numpy as np\n",
    "import matplotlib.pyplot as plt\n",
    "import seaborn as sns\n",
    "from sklearn.preprocessing import OrdinalEncoder, StandardScaler\n",
    "from sklearn.model_selection import train_test_split\n",
    "from sklearn.utils import shuffle\n",
    "from sklearn.linear_model import LogisticRegression\n",
    "from sklearn.tree import DecisionTreeClassifier\n",
    "from sklearn.ensemble import RandomForestClassifier\n",
    "from sklearn.metrics import f1_score, roc_curve, roc_auc_score, precision_recall_curve"
   ]
  },
  {
   "cell_type": "markdown",
   "metadata": {},
   "source": [
    "## Inspección inicial de datos\n",
    "\n",
    "Se realiza la importación de la base de datos, se visualiza la información y encabezado para detectar tipo de datos inadecuados, datos ausentes, datos duplicados e incongruencias en general."
   ]
  },
  {
   "cell_type": "code",
   "execution_count": 2,
   "metadata": {},
   "outputs": [],
   "source": [
    "data = pd.read_csv('datasets/Churn.csv')"
   ]
  },
  {
   "cell_type": "code",
   "execution_count": 3,
   "metadata": {},
   "outputs": [
    {
     "name": "stdout",
     "output_type": "stream",
     "text": [
      "<class 'pandas.core.frame.DataFrame'>\n",
      "RangeIndex: 10000 entries, 0 to 9999\n",
      "Data columns (total 14 columns):\n",
      " #   Column           Non-Null Count  Dtype  \n",
      "---  ------           --------------  -----  \n",
      " 0   RowNumber        10000 non-null  int64  \n",
      " 1   CustomerId       10000 non-null  int64  \n",
      " 2   Surname          10000 non-null  object \n",
      " 3   CreditScore      10000 non-null  int64  \n",
      " 4   Geography        10000 non-null  object \n",
      " 5   Gender           10000 non-null  object \n",
      " 6   Age              10000 non-null  int64  \n",
      " 7   Tenure           9091 non-null   float64\n",
      " 8   Balance          10000 non-null  float64\n",
      " 9   NumOfProducts    10000 non-null  int64  \n",
      " 10  HasCrCard        10000 non-null  int64  \n",
      " 11  IsActiveMember   10000 non-null  int64  \n",
      " 12  EstimatedSalary  10000 non-null  float64\n",
      " 13  Exited           10000 non-null  int64  \n",
      "dtypes: float64(3), int64(8), object(3)\n",
      "memory usage: 1.1+ MB\n"
     ]
    }
   ],
   "source": [
    "data.info()"
   ]
  },
  {
   "cell_type": "code",
   "execution_count": 4,
   "metadata": {},
   "outputs": [
    {
     "data": {
      "text/html": [
       "<div>\n",
       "<style scoped>\n",
       "    .dataframe tbody tr th:only-of-type {\n",
       "        vertical-align: middle;\n",
       "    }\n",
       "\n",
       "    .dataframe tbody tr th {\n",
       "        vertical-align: top;\n",
       "    }\n",
       "\n",
       "    .dataframe thead th {\n",
       "        text-align: right;\n",
       "    }\n",
       "</style>\n",
       "<table border=\"1\" class=\"dataframe\">\n",
       "  <thead>\n",
       "    <tr style=\"text-align: right;\">\n",
       "      <th></th>\n",
       "      <th>RowNumber</th>\n",
       "      <th>CustomerId</th>\n",
       "      <th>Surname</th>\n",
       "      <th>CreditScore</th>\n",
       "      <th>Geography</th>\n",
       "      <th>Gender</th>\n",
       "      <th>Age</th>\n",
       "      <th>Tenure</th>\n",
       "      <th>Balance</th>\n",
       "      <th>NumOfProducts</th>\n",
       "      <th>HasCrCard</th>\n",
       "      <th>IsActiveMember</th>\n",
       "      <th>EstimatedSalary</th>\n",
       "      <th>Exited</th>\n",
       "    </tr>\n",
       "  </thead>\n",
       "  <tbody>\n",
       "    <tr>\n",
       "      <th>0</th>\n",
       "      <td>1</td>\n",
       "      <td>15634602</td>\n",
       "      <td>Hargrave</td>\n",
       "      <td>619</td>\n",
       "      <td>France</td>\n",
       "      <td>Female</td>\n",
       "      <td>42</td>\n",
       "      <td>2.0</td>\n",
       "      <td>0.00</td>\n",
       "      <td>1</td>\n",
       "      <td>1</td>\n",
       "      <td>1</td>\n",
       "      <td>101348.88</td>\n",
       "      <td>1</td>\n",
       "    </tr>\n",
       "    <tr>\n",
       "      <th>1</th>\n",
       "      <td>2</td>\n",
       "      <td>15647311</td>\n",
       "      <td>Hill</td>\n",
       "      <td>608</td>\n",
       "      <td>Spain</td>\n",
       "      <td>Female</td>\n",
       "      <td>41</td>\n",
       "      <td>1.0</td>\n",
       "      <td>83807.86</td>\n",
       "      <td>1</td>\n",
       "      <td>0</td>\n",
       "      <td>1</td>\n",
       "      <td>112542.58</td>\n",
       "      <td>0</td>\n",
       "    </tr>\n",
       "    <tr>\n",
       "      <th>2</th>\n",
       "      <td>3</td>\n",
       "      <td>15619304</td>\n",
       "      <td>Onio</td>\n",
       "      <td>502</td>\n",
       "      <td>France</td>\n",
       "      <td>Female</td>\n",
       "      <td>42</td>\n",
       "      <td>8.0</td>\n",
       "      <td>159660.80</td>\n",
       "      <td>3</td>\n",
       "      <td>1</td>\n",
       "      <td>0</td>\n",
       "      <td>113931.57</td>\n",
       "      <td>1</td>\n",
       "    </tr>\n",
       "    <tr>\n",
       "      <th>3</th>\n",
       "      <td>4</td>\n",
       "      <td>15701354</td>\n",
       "      <td>Boni</td>\n",
       "      <td>699</td>\n",
       "      <td>France</td>\n",
       "      <td>Female</td>\n",
       "      <td>39</td>\n",
       "      <td>1.0</td>\n",
       "      <td>0.00</td>\n",
       "      <td>2</td>\n",
       "      <td>0</td>\n",
       "      <td>0</td>\n",
       "      <td>93826.63</td>\n",
       "      <td>0</td>\n",
       "    </tr>\n",
       "    <tr>\n",
       "      <th>4</th>\n",
       "      <td>5</td>\n",
       "      <td>15737888</td>\n",
       "      <td>Mitchell</td>\n",
       "      <td>850</td>\n",
       "      <td>Spain</td>\n",
       "      <td>Female</td>\n",
       "      <td>43</td>\n",
       "      <td>2.0</td>\n",
       "      <td>125510.82</td>\n",
       "      <td>1</td>\n",
       "      <td>1</td>\n",
       "      <td>1</td>\n",
       "      <td>79084.10</td>\n",
       "      <td>0</td>\n",
       "    </tr>\n",
       "  </tbody>\n",
       "</table>\n",
       "</div>"
      ],
      "text/plain": [
       "   RowNumber  CustomerId   Surname  CreditScore Geography  Gender  Age  \\\n",
       "0          1    15634602  Hargrave          619    France  Female   42   \n",
       "1          2    15647311      Hill          608     Spain  Female   41   \n",
       "2          3    15619304      Onio          502    France  Female   42   \n",
       "3          4    15701354      Boni          699    France  Female   39   \n",
       "4          5    15737888  Mitchell          850     Spain  Female   43   \n",
       "\n",
       "   Tenure    Balance  NumOfProducts  HasCrCard  IsActiveMember  \\\n",
       "0     2.0       0.00              1          1               1   \n",
       "1     1.0   83807.86              1          0               1   \n",
       "2     8.0  159660.80              3          1               0   \n",
       "3     1.0       0.00              2          0               0   \n",
       "4     2.0  125510.82              1          1               1   \n",
       "\n",
       "   EstimatedSalary  Exited  \n",
       "0        101348.88       1  \n",
       "1        112542.58       0  \n",
       "2        113931.57       1  \n",
       "3         93826.63       0  \n",
       "4         79084.10       0  "
      ]
     },
     "execution_count": 4,
     "metadata": {},
     "output_type": "execute_result"
    }
   ],
   "source": [
    "data.head()"
   ]
  },
  {
   "cell_type": "markdown",
   "metadata": {},
   "source": [
    "La base de datos contiene 10000 entradas, con 14 columnas correspondientes a número de fila, identificador único de cliente, apellido, score crediticio, país, género, edad, período durante el cual ha madurado el depósito a plazo fijo de un cliente en años, balance de cuenta, número de productos, si el cliente tiene tarjeta de crédito, si es cliente activo, salario estimado y si el cliente ha cancelado. Todas las columnas tienen un tipo de dato adecuado. Solo la columna Tenure tiene datos ausentes."
   ]
  },
  {
   "cell_type": "code",
   "execution_count": 5,
   "metadata": {},
   "outputs": [
    {
     "data": {
      "text/plain": [
       "RowNumber            0\n",
       "CustomerId           0\n",
       "Surname              0\n",
       "CreditScore          0\n",
       "Geography            0\n",
       "Gender               0\n",
       "Age                  0\n",
       "Tenure             909\n",
       "Balance              0\n",
       "NumOfProducts        0\n",
       "HasCrCard            0\n",
       "IsActiveMember       0\n",
       "EstimatedSalary      0\n",
       "Exited               0\n",
       "dtype: int64"
      ]
     },
     "execution_count": 5,
     "metadata": {},
     "output_type": "execute_result"
    }
   ],
   "source": [
    "data.isna().sum()"
   ]
  },
  {
   "cell_type": "markdown",
   "metadata": {},
   "source": [
    "Hay 909 datos ausentes en la columna 'Tenure'."
   ]
  },
  {
   "cell_type": "code",
   "execution_count": 6,
   "metadata": {},
   "outputs": [
    {
     "data": {
      "text/plain": [
       "0"
      ]
     },
     "execution_count": 6,
     "metadata": {},
     "output_type": "execute_result"
    }
   ],
   "source": [
    "data.duplicated().sum()"
   ]
  },
  {
   "cell_type": "markdown",
   "metadata": {},
   "source": [
    "No hay filas completamente duplicadas."
   ]
  },
  {
   "cell_type": "code",
   "execution_count": 7,
   "metadata": {},
   "outputs": [
    {
     "data": {
      "text/html": [
       "<div>\n",
       "<style scoped>\n",
       "    .dataframe tbody tr th:only-of-type {\n",
       "        vertical-align: middle;\n",
       "    }\n",
       "\n",
       "    .dataframe tbody tr th {\n",
       "        vertical-align: top;\n",
       "    }\n",
       "\n",
       "    .dataframe thead th {\n",
       "        text-align: right;\n",
       "    }\n",
       "</style>\n",
       "<table border=\"1\" class=\"dataframe\">\n",
       "  <thead>\n",
       "    <tr style=\"text-align: right;\">\n",
       "      <th></th>\n",
       "      <th>RowNumber</th>\n",
       "      <th>CustomerId</th>\n",
       "      <th>CreditScore</th>\n",
       "      <th>Age</th>\n",
       "      <th>Tenure</th>\n",
       "      <th>Balance</th>\n",
       "      <th>NumOfProducts</th>\n",
       "      <th>HasCrCard</th>\n",
       "      <th>IsActiveMember</th>\n",
       "      <th>EstimatedSalary</th>\n",
       "      <th>Exited</th>\n",
       "    </tr>\n",
       "  </thead>\n",
       "  <tbody>\n",
       "    <tr>\n",
       "      <th>count</th>\n",
       "      <td>10000.00000</td>\n",
       "      <td>1.000000e+04</td>\n",
       "      <td>10000.000000</td>\n",
       "      <td>10000.000000</td>\n",
       "      <td>9091.000000</td>\n",
       "      <td>10000.000000</td>\n",
       "      <td>10000.000000</td>\n",
       "      <td>10000.00000</td>\n",
       "      <td>10000.000000</td>\n",
       "      <td>10000.000000</td>\n",
       "      <td>10000.000000</td>\n",
       "    </tr>\n",
       "    <tr>\n",
       "      <th>mean</th>\n",
       "      <td>5000.50000</td>\n",
       "      <td>1.569094e+07</td>\n",
       "      <td>650.528800</td>\n",
       "      <td>38.921800</td>\n",
       "      <td>4.997690</td>\n",
       "      <td>76485.889288</td>\n",
       "      <td>1.530200</td>\n",
       "      <td>0.70550</td>\n",
       "      <td>0.515100</td>\n",
       "      <td>100090.239881</td>\n",
       "      <td>0.203700</td>\n",
       "    </tr>\n",
       "    <tr>\n",
       "      <th>std</th>\n",
       "      <td>2886.89568</td>\n",
       "      <td>7.193619e+04</td>\n",
       "      <td>96.653299</td>\n",
       "      <td>10.487806</td>\n",
       "      <td>2.894723</td>\n",
       "      <td>62397.405202</td>\n",
       "      <td>0.581654</td>\n",
       "      <td>0.45584</td>\n",
       "      <td>0.499797</td>\n",
       "      <td>57510.492818</td>\n",
       "      <td>0.402769</td>\n",
       "    </tr>\n",
       "    <tr>\n",
       "      <th>min</th>\n",
       "      <td>1.00000</td>\n",
       "      <td>1.556570e+07</td>\n",
       "      <td>350.000000</td>\n",
       "      <td>18.000000</td>\n",
       "      <td>0.000000</td>\n",
       "      <td>0.000000</td>\n",
       "      <td>1.000000</td>\n",
       "      <td>0.00000</td>\n",
       "      <td>0.000000</td>\n",
       "      <td>11.580000</td>\n",
       "      <td>0.000000</td>\n",
       "    </tr>\n",
       "    <tr>\n",
       "      <th>25%</th>\n",
       "      <td>2500.75000</td>\n",
       "      <td>1.562853e+07</td>\n",
       "      <td>584.000000</td>\n",
       "      <td>32.000000</td>\n",
       "      <td>2.000000</td>\n",
       "      <td>0.000000</td>\n",
       "      <td>1.000000</td>\n",
       "      <td>0.00000</td>\n",
       "      <td>0.000000</td>\n",
       "      <td>51002.110000</td>\n",
       "      <td>0.000000</td>\n",
       "    </tr>\n",
       "    <tr>\n",
       "      <th>50%</th>\n",
       "      <td>5000.50000</td>\n",
       "      <td>1.569074e+07</td>\n",
       "      <td>652.000000</td>\n",
       "      <td>37.000000</td>\n",
       "      <td>5.000000</td>\n",
       "      <td>97198.540000</td>\n",
       "      <td>1.000000</td>\n",
       "      <td>1.00000</td>\n",
       "      <td>1.000000</td>\n",
       "      <td>100193.915000</td>\n",
       "      <td>0.000000</td>\n",
       "    </tr>\n",
       "    <tr>\n",
       "      <th>75%</th>\n",
       "      <td>7500.25000</td>\n",
       "      <td>1.575323e+07</td>\n",
       "      <td>718.000000</td>\n",
       "      <td>44.000000</td>\n",
       "      <td>7.000000</td>\n",
       "      <td>127644.240000</td>\n",
       "      <td>2.000000</td>\n",
       "      <td>1.00000</td>\n",
       "      <td>1.000000</td>\n",
       "      <td>149388.247500</td>\n",
       "      <td>0.000000</td>\n",
       "    </tr>\n",
       "    <tr>\n",
       "      <th>max</th>\n",
       "      <td>10000.00000</td>\n",
       "      <td>1.581569e+07</td>\n",
       "      <td>850.000000</td>\n",
       "      <td>92.000000</td>\n",
       "      <td>10.000000</td>\n",
       "      <td>250898.090000</td>\n",
       "      <td>4.000000</td>\n",
       "      <td>1.00000</td>\n",
       "      <td>1.000000</td>\n",
       "      <td>199992.480000</td>\n",
       "      <td>1.000000</td>\n",
       "    </tr>\n",
       "  </tbody>\n",
       "</table>\n",
       "</div>"
      ],
      "text/plain": [
       "         RowNumber    CustomerId   CreditScore           Age       Tenure  \\\n",
       "count  10000.00000  1.000000e+04  10000.000000  10000.000000  9091.000000   \n",
       "mean    5000.50000  1.569094e+07    650.528800     38.921800     4.997690   \n",
       "std     2886.89568  7.193619e+04     96.653299     10.487806     2.894723   \n",
       "min        1.00000  1.556570e+07    350.000000     18.000000     0.000000   \n",
       "25%     2500.75000  1.562853e+07    584.000000     32.000000     2.000000   \n",
       "50%     5000.50000  1.569074e+07    652.000000     37.000000     5.000000   \n",
       "75%     7500.25000  1.575323e+07    718.000000     44.000000     7.000000   \n",
       "max    10000.00000  1.581569e+07    850.000000     92.000000    10.000000   \n",
       "\n",
       "             Balance  NumOfProducts    HasCrCard  IsActiveMember  \\\n",
       "count   10000.000000   10000.000000  10000.00000    10000.000000   \n",
       "mean    76485.889288       1.530200      0.70550        0.515100   \n",
       "std     62397.405202       0.581654      0.45584        0.499797   \n",
       "min         0.000000       1.000000      0.00000        0.000000   \n",
       "25%         0.000000       1.000000      0.00000        0.000000   \n",
       "50%     97198.540000       1.000000      1.00000        1.000000   \n",
       "75%    127644.240000       2.000000      1.00000        1.000000   \n",
       "max    250898.090000       4.000000      1.00000        1.000000   \n",
       "\n",
       "       EstimatedSalary        Exited  \n",
       "count     10000.000000  10000.000000  \n",
       "mean     100090.239881      0.203700  \n",
       "std       57510.492818      0.402769  \n",
       "min          11.580000      0.000000  \n",
       "25%       51002.110000      0.000000  \n",
       "50%      100193.915000      0.000000  \n",
       "75%      149388.247500      0.000000  \n",
       "max      199992.480000      1.000000  "
      ]
     },
     "execution_count": 7,
     "metadata": {},
     "output_type": "execute_result"
    }
   ],
   "source": [
    "data.describe()"
   ]
  },
  {
   "cell_type": "markdown",
   "metadata": {},
   "source": [
    "Se muestra la información general de las columnas numéricas. No se detectan incongruencias en los datos. Aproximadamente el 20% de los clientes de la base de datos han cancelado sus servicios en el banco, lo cual sugiere un desequilibrio en las clases. Adicionalmente podemos notar que aproximadamente el 50% de los clientes de la base de datos son clientes activos y el 70% han tenido una tarjeta de crédito. \n",
    "\n",
    "En resumen, no se encontraron datos duplicados, tipos de dato inadecuados o inconcruencias graves. Hay 909 datos ausentes en la columna 'Tenure', lo cual puede deberse a que no todos los clientes cuentan con cuenta de plazo fijo, han cancelado o se han perdido los datos. Se reemplazarán los datos ausentes con una medida estadísticamente representativa."
   ]
  },
  {
   "cell_type": "markdown",
   "metadata": {},
   "source": [
    "## Preparación de datos\n",
    "\n",
    "En esta sección se corrigen inconsistencias detectadas en la sección anterior y se preparan los datos para los modelos correspondientes. "
   ]
  },
  {
   "cell_type": "markdown",
   "metadata": {},
   "source": [
    "### Valores ausentes\n",
    "\n",
    "En la sección anterior se detectan 909 datos ausentes en la columna 'Tenure', a continuación se muestra un histograma de esta columna para observar la distribución de los datos. "
   ]
  },
  {
   "cell_type": "code",
   "execution_count": 8,
   "metadata": {},
   "outputs": [
    {
     "data": {
      "text/plain": [
       "<AxesSubplot:xlabel='Tenure', ylabel='Count'>"
      ]
     },
     "execution_count": 8,
     "metadata": {},
     "output_type": "execute_result"
    },
    {
     "data": {
      "image/png": "[encoded data removed]",
      "text/plain": [
       "<Figure size 432x288 with 1 Axes>"
      ]
     },
     "metadata": {
      "needs_background": "light"
     },
     "output_type": "display_data"
    }
   ],
   "source": [
    "sns.histplot(data=data['Tenure'], discrete=True) "
   ]
  },
  {
   "cell_type": "markdown",
   "metadata": {},
   "source": [
    "Se puede observar que la distribución en general es simétrica y va desde los 0 a los 10 años. Adicionalmente en la sección anterior se puede observar que la media y la mediana son muy similares y aproximadamente igual a cinco. Por lo tanto, para mantener los datos como tipo entero se reemplazan los datos ausentes por la mediana."
   ]
  },
  {
   "cell_type": "code",
   "execution_count": 9,
   "metadata": {},
   "outputs": [],
   "source": [
    "data['Tenure'] = data['Tenure'].fillna(data['Tenure'].median())"
   ]
  },
  {
   "cell_type": "markdown",
   "metadata": {},
   "source": [
    "### Preparación general para el modelado\n",
    "\n",
    "En este sección se observan todos los datos para optimizar y garantizar la validez de los datos antes de hacer el entrenamiento de los modelos. A continuación se muestran los nombres de las columnas de la base de datos."
   ]
  },
  {
   "cell_type": "code",
   "execution_count": 10,
   "metadata": {},
   "outputs": [
    {
     "data": {
      "text/plain": [
       "Index(['RowNumber', 'CustomerId', 'Surname', 'CreditScore', 'Geography',\n",
       "       'Gender', 'Age', 'Tenure', 'Balance', 'NumOfProducts', 'HasCrCard',\n",
       "       'IsActiveMember', 'EstimatedSalary', 'Exited'],\n",
       "      dtype='object')"
      ]
     },
     "execution_count": 10,
     "metadata": {},
     "output_type": "execute_result"
    }
   ],
   "source": [
    "data.columns"
   ]
  },
  {
   "cell_type": "markdown",
   "metadata": {},
   "source": [
    "### Codificación de datos categóricos\n",
    "\n",
    "La implementación de los modelos requiere que todas las columnas sean de tipo numérico, por lo cual primero debe hacerse una codificación de los datos categóricos, por lo cual es necesario evaluar el tratamiento de estos datos.\n",
    "\n",
    "El número de fila, identificador de cliente y apellido sirven para identificar al cliente pero en principio no deberían ser consideradas como variables que expliquen si un cliente abandona o no el banco, por lo cual se descartan para el presente análisis, pero de ser necesario se puede reevaluar esta hipótesis posteriormente. "
   ]
  },
  {
   "cell_type": "code",
   "execution_count": 11,
   "metadata": {},
   "outputs": [],
   "source": [
    "data = data.drop(columns=['RowNumber','CustomerId','Surname'])"
   ]
  },
  {
   "cell_type": "markdown",
   "metadata": {},
   "source": [
    "Las columnas correspondientes a género y país son variables categóricas no ordinales, por lo cual se implementa una codificación One-Hot para el modelo de Regresión Logística. Se elimina la primera columna para evitar la dependencia lineal de los vectores."
   ]
  },
  {
   "cell_type": "code",
   "execution_count": 12,
   "metadata": {},
   "outputs": [],
   "source": [
    "data_ohe = pd.get_dummies(data, drop_first=True)"
   ]
  },
  {
   "cell_type": "markdown",
   "metadata": {},
   "source": [
    "Para los modelos de Árbol de decisión y Bosque Aleatorio se emplea una codificación de etiquetas."
   ]
  },
  {
   "cell_type": "code",
   "execution_count": 13,
   "metadata": {},
   "outputs": [],
   "source": [
    "encoder = OrdinalEncoder()\n",
    "data_ordinal = pd.DataFrame(encoder.fit_transform(data), columns=data.columns)"
   ]
  },
  {
   "cell_type": "markdown",
   "metadata": {},
   "source": [
    "### Segmentación de datos\n",
    "\n",
    "En esta sección se realiza una función que segmenta los datos codificados en conjuntos de entrenamiento, validación y prueba con sus objetivos y características.  La segmentación de datos se realiza de manera que el conjunto de entrenamiento representa el 60% de los datos, y los conjuntos de validación y prueba el 20% cada uno. "
   ]
  },
  {
   "cell_type": "markdown",
   "metadata": {},
   "source": [
    "Se define el objetivo como la columna 'Exited' y las características como todas las demás columnas. Se hace para cada uno de los conjuntos."
   ]
  },
  {
   "cell_type": "code",
   "execution_count": 14,
   "metadata": {},
   "outputs": [],
   "source": [
    "def segmentation(data_coded):\n",
    "    ''' Toma los datos codificados y devuelve las características del conjunto de \n",
    "    entrenamiento, validación y prueba y los objetivos de estos conjuntos.'''\n",
    "    \n",
    "    target = data_coded['Exited'] #objetivo\n",
    "    features = data_coded.drop(columns='Exited') #características\n",
    "    \n",
    "    features_train, features_left, target_train, target_left = train_test_split(\n",
    "        features, target, test_size=0.40, random_state=12345) #divide el conjunto en entrenamiento 60% y el resto 40%\n",
    "    \n",
    "    features_valid, features_test, target_valid, target_test = train_test_split(\n",
    "        features_left, target_left, test_size=0.50, random_state=12345) #divide el resto del conjunto en validación y prueba\n",
    "    \n",
    "    return features_train, features_valid, features_test, target_train, target_valid, target_test"
   ]
  },
  {
   "cell_type": "markdown",
   "metadata": {},
   "source": [
    "### Escalamiento de datos\n",
    "\n",
    "Se desarrolla una función que escala las características numéricas."
   ]
  },
  {
   "cell_type": "code",
   "execution_count": 15,
   "metadata": {},
   "outputs": [],
   "source": [
    "def scaling(features_train, features_valid, features_test):    \n",
    "    numeric = ['CreditScore', 'Age', 'Tenure', 'Balance', 'NumOfProducts', 'EstimatedSalary'] #características numéricas\n",
    "\n",
    "    scaler = StandardScaler() #escalamiento\n",
    "    scaler.fit(features_train[numeric])\n",
    "\n",
    "    features_train[numeric] = scaler.transform(features_train[numeric])\n",
    "    features_valid[numeric] = scaler.transform(features_valid[numeric])\n",
    "    features_test[numeric] = scaler.transform(features_test[numeric])\n",
    "    \n",
    "    return features_train, features_valid, features_test   "
   ]
  },
  {
   "cell_type": "markdown",
   "metadata": {},
   "source": [
    "### Sobremuestreo y submuestreo\n",
    "\n",
    "Se definen funciones de sobremuestreo y submuestreo que se implementarán posteriormente. "
   ]
  },
  {
   "cell_type": "code",
   "execution_count": 16,
   "metadata": {},
   "outputs": [],
   "source": [
    "def upsample(features, target, repeat):\n",
    "    '''Toma las características y objetivo y las separa en clases. \n",
    "    Repite la clase menos representada el número de veces establecido.\n",
    "    Mezcla los nuevos conjuntos y devuelve los conjuntos balanceados.'''\n",
    "    features_zeros = features[target == 0]\n",
    "    features_ones = features[target == 1]\n",
    "    target_zeros = target[target == 0]\n",
    "    target_ones = target[target == 1]\n",
    "\n",
    "    features_upsampled = pd.concat([features_zeros] + [features_ones] * repeat)\n",
    "    target_upsampled = pd.concat([target_zeros] + [target_ones] * repeat)\n",
    "\n",
    "    features_upsampled, target_upsampled = shuffle(features_upsampled, target_upsampled, random_state=12345)\n",
    "\n",
    "    return features_upsampled, target_upsampled"
   ]
  },
  {
   "cell_type": "code",
   "execution_count": 17,
   "metadata": {},
   "outputs": [],
   "source": [
    "def downsample(features, target, fraction):\n",
    "    '''Toma las características y objetivo y las separa en clases. \n",
    "    Toma una fracción de la clase más representada y devuelve los conjuntos balanceados.'''\n",
    "    features_zeros = features[target == 0]\n",
    "    features_ones = features[target == 1]\n",
    "    target_zeros = target[target == 0]\n",
    "    target_ones = target[target == 1]\n",
    "\n",
    "    features_downsampled = pd.concat(\n",
    "        [features_zeros.sample(frac=fraction, random_state=12345)]\n",
    "        + [features_ones]\n",
    "    )\n",
    "    \n",
    "    target_downsampled = pd.concat(\n",
    "        [target_zeros.sample(frac=fraction, random_state=12345)]\n",
    "        + [target_ones]\n",
    "    )\n",
    "\n",
    "    features_downsampled, target_downsampled = shuffle(\n",
    "        features_downsampled, target_downsampled, random_state=12345\n",
    "    )\n",
    "\n",
    "    return features_downsampled, target_downsampled"
   ]
  },
  {
   "cell_type": "markdown",
   "metadata": {},
   "source": [
    "En esta sección se han reemplazado los valores de la columna 'Tenure' por la mediana de esta columna, se han descartado las columnas 'RowNumber','CustomerId','Surname' por no ser consideradas reelevantes como factores explicaivos. Finalmente se han realizado dos codificaciones;  One-Hot para codificar las columnas categóricas 'Gender' y 'Geography' como numéricas para el modelo de Regresión Logística: y codificaión de etiquetas para los modelos de Árbol de Decisión y Bosque Aleatorio. \n",
    "\n",
    "Se ha desarrollado funciones para hacer la segmentación, el escalamiento, sobremuestreo y submuetreo."
   ]
  },
  {
   "cell_type": "markdown",
   "metadata": {},
   "source": [
    "## Optimización de hiperparámetros sin corrección de desequilibrio de clases.\n",
    "\n",
    "En esta sección se analiza el efecto de varios hiperparámetros para los modelos de Regresión Logística, Árbol de decisión y Bosque Aleatorio. Para cada modelo se utiliza la codificación de datos más apropiada. En esta sección se omite la corrección para el desequilibrio de clases.\n",
    "\n",
    "### Regresión Logística\n",
    "\n",
    "Se realiza la segmentación de datos y escalamiento con las funciones desarrolladas en la sección anterior. Se utiliza la codificación One-Hot. "
   ]
  },
  {
   "cell_type": "code",
   "execution_count": 18,
   "metadata": {},
   "outputs": [],
   "source": [
    "features_train, features_valid, features_test, target_train, target_valid, target_test = segmentation(data_ohe)\n",
    "\n",
    "features_train, features_valid, features_test = scaling(features_train, features_valid, features_test)"
   ]
  },
  {
   "cell_type": "markdown",
   "metadata": {},
   "source": [
    "Se entrena el modelo de regresión logística con el parámetro solver='liblinear'."
   ]
  },
  {
   "cell_type": "code",
   "execution_count": 19,
   "metadata": {},
   "outputs": [
    {
     "data": {
      "text/plain": [
       "LogisticRegression(random_state=12345, solver='liblinear')"
      ]
     },
     "execution_count": 19,
     "metadata": {},
     "output_type": "execute_result"
    }
   ],
   "source": [
    "model = LogisticRegression(random_state=12345, solver='liblinear')\n",
    "model.fit(features_train, target_train)"
   ]
  },
  {
   "cell_type": "markdown",
   "metadata": {},
   "source": [
    "Se realiza la predicción del conjunto de validación."
   ]
  },
  {
   "cell_type": "code",
   "execution_count": 20,
   "metadata": {},
   "outputs": [],
   "source": [
    "predicted_valid = model.predict(features_valid)"
   ]
  },
  {
   "cell_type": "markdown",
   "metadata": {},
   "source": [
    "Se calculan las probabilidades de cada observación, y las probabilidades de que cada observación corresponda a 'Exited' = 1. "
   ]
  },
  {
   "cell_type": "code",
   "execution_count": 21,
   "metadata": {},
   "outputs": [],
   "source": [
    "probabilities_valid = model.predict_proba(features_valid)\n",
    "probabilities_one_valid = probabilities_valid[:, 1]"
   ]
  },
  {
   "cell_type": "markdown",
   "metadata": {},
   "source": [
    "Se calcula el valor f1 y el área bajo la curva ROC."
   ]
  },
  {
   "cell_type": "code",
   "execution_count": 22,
   "metadata": {},
   "outputs": [
    {
     "name": "stdout",
     "output_type": "stream",
     "text": [
      "                 model unbalance correction  F1 score   AUC ROC\n",
      "0  Logistic Regression        no correction  0.331081  0.758751\n"
     ]
    }
   ],
   "source": [
    "f1 = f1_score(target_valid, predicted_valid)\n",
    "auc = roc_auc_score(target_valid, probabilities_one_valid)\n",
    "reg_log = pd.DataFrame({\n",
    "    'model': 'Logistic Regression',\n",
    "    'unbalance correction' : 'no correction',\n",
    "    'F1 score': f1,\n",
    "    'AUC ROC': auc}, index=[0])\n",
    "\n",
    "print(reg_log)"
   ]
  },
  {
   "cell_type": "markdown",
   "metadata": {},
   "source": [
    "Se calculan las tasas de falsos positivos y verdaderos positivos para diferentes umbrales. En la sección de resultados se realiza una comparación de todas las curvas."
   ]
  },
  {
   "cell_type": "code",
   "execution_count": 23,
   "metadata": {},
   "outputs": [],
   "source": [
    "fpr_reg_log, tpr_reg_log, thresholds_reg_log = roc_curve(target_valid, probabilities_one_valid)"
   ]
  },
  {
   "cell_type": "markdown",
   "metadata": {},
   "source": [
    "## Árbol de decisión\n",
    "\n",
    "En esta sección se considera un modelo de Árbol de Decisión. Primero se realiza la segmentación de los datos, pero esta vez se utiliza la codificación de etiquetas."
   ]
  },
  {
   "cell_type": "code",
   "execution_count": 24,
   "metadata": {},
   "outputs": [],
   "source": [
    "features_train, features_valid, features_test, target_train, target_valid, target_test = segmentation(data_ordinal)\n",
    "\n",
    "features_train, features_valid, features_test = scaling(features_train, features_valid, features_test)"
   ]
  },
  {
   "cell_type": "markdown",
   "metadata": {},
   "source": [
    "Primero se identifica la profundidad que maximiza el puntaje f1. El mejor modelo es usado para calcular las tasas de falsos positivos y verdaderos positivos para diferentes umbrales."
   ]
  },
  {
   "cell_type": "code",
   "execution_count": 25,
   "metadata": {},
   "outputs": [
    {
     "name": "stdout",
     "output_type": "stream",
     "text": [
      "El modelo con mejor score f1 tiene una profundidad máxima de 4\n",
      "\n",
      "           model unbalance correction  F1 score   AUC ROC\n",
      "1  Decision Tree        no correction   0.55287  0.820301\n"
     ]
    }
   ],
   "source": [
    "best_f1=0.0\n",
    "best_depth=0\n",
    "best_auc=0\n",
    "\n",
    "for depth in range(1,11):\n",
    "    model = DecisionTreeClassifier(random_state=12345, max_depth=depth)\n",
    "    model.fit(features_train, target_train) #entrena el modelo\n",
    "    \n",
    "    predicted_valid = model.predict(features_valid) #predice para el conjunto de validación\n",
    "    probabilities_valid = model.predict_proba(features_valid) #calcula las probabilidades\n",
    "    probabilities_one_valid = probabilities_valid[:, 1] #extrae las probabilidades 'exited'=1\n",
    "    \n",
    "    f1 = f1_score(target_valid, predicted_valid) #calcula score f1\n",
    "    \n",
    "    if f1 > best_f1: #extrae el mejor score\n",
    "        best_f1 = f1\n",
    "        best_auc = roc_auc_score(target_valid, probabilities_one_valid)\n",
    "        best_depth = depth\n",
    "        #calcula la curva roc para el mejor modelo\n",
    "        fpr_dec_tree, tpr_dec_tree, thresholds_dec_tree = roc_curve(target_valid, probabilities_one_valid)\n",
    "    \n",
    "    \n",
    "dec_tree = pd.DataFrame({\n",
    "    'model': 'Decision Tree',\n",
    "    'unbalance correction' : 'no correction',\n",
    "    'F1 score': best_f1,\n",
    "    'AUC ROC': best_auc}, index=[1])\n",
    "\n",
    "print(f'El modelo con mejor score f1 tiene una profundidad máxima de {best_depth}')\n",
    "print()\n",
    "print(dec_tree)"
   ]
  },
  {
   "cell_type": "markdown",
   "metadata": {},
   "source": [
    "El modelo de Árbol obtiene mejores resultados que el de Regresión Logística."
   ]
  },
  {
   "cell_type": "markdown",
   "metadata": {},
   "source": [
    "### Bosque aleatorio\n",
    "\n",
    "Se encuentran los hiperparámetros que maximizan el score f1 para el modelo de Bosque Aleatorio. Se emplean los mismos conjuntos de entrenamiento, validación y prueba que en el modelo anterior, por lo cual no es necesario volver a hacer el preprocesamiento. "
   ]
  },
  {
   "cell_type": "code",
   "execution_count": 26,
   "metadata": {},
   "outputs": [
    {
     "name": "stdout",
     "output_type": "stream",
     "text": [
      "El mejor modelo de bosque tiene  100 estimadores,  9 de profundidad\n",
      "\n",
      "           model unbalance correction  F1 score   AUC ROC\n",
      "2  Random Forest        no correction  0.571429  0.848919\n"
     ]
    }
   ],
   "source": [
    "best_f1 = 0\n",
    "\n",
    "for est in range(10, 101, 10): #se crea un modelo para cada número de estimadores\n",
    "    \n",
    "    for depth in range(1,11): #para cada número de estimadores se establece el nivel de profundidad\n",
    "        \n",
    "        model = RandomForestClassifier(random_state=12345, n_estimators=est, max_depth=depth)# establece el modelo de bosque\n",
    "        \n",
    "        model.fit(features_train, target_train) # entrena el modelo en el conjunto de entrenamiento\n",
    "        \n",
    "        predicted_valid = model.predict(features_valid) #predice para el conjunto de validación\n",
    "        probabilities_valid = model.predict_proba(features_valid) #calcula las probabilidades\n",
    "        probabilities_one_valid = probabilities_valid[:, 1] #extrae las probabilidades 'exited'=1\n",
    "        \n",
    "        f1 = f1_score(target_valid, predicted_valid) #calcula score f1\n",
    "        \n",
    "        if f1 > best_f1: #extrae el mejor score\n",
    "            best_f1 = f1_score(target_valid, predicted_valid)\n",
    "            best_auc = roc_auc_score(target_valid, probabilities_one_valid)\n",
    "            best_depth = depth\n",
    "            best_est = est\n",
    "            \n",
    "            #calcula la curva roc para el mejor modelo\n",
    "            fpr_rand_for, tpr_rand_for, thresholds_rand_for = roc_curve(target_valid, probabilities_one_valid)\n",
    "            \n",
    "rand_for = pd.DataFrame({\n",
    "    'model': 'Random Forest',\n",
    "    'unbalance correction' : 'no correction',\n",
    "    'F1 score': best_f1,\n",
    "    'AUC ROC': best_auc}, index=[2])\n",
    "\n",
    "print(f\"El mejor modelo de bosque tiene  {best_est} estimadores,  {best_depth} de profundidad\")\n",
    "print()\n",
    "print(rand_for)"
   ]
  },
  {
   "cell_type": "markdown",
   "metadata": {},
   "source": [
    "Mejora ligeramente en comparación con el modelo anterior."
   ]
  },
  {
   "cell_type": "markdown",
   "metadata": {},
   "source": [
    "## Corrección para desequilibrio de clases\n",
    "\n",
    "En esta sección se implementan diferentes enfoques para corregir el desbalance de clases.\n",
    "\n",
    "### Regresión Logística\n",
    "Para corregir el desequilibrio de clases se implementa el parámetro **class_weight** como 'balanced' dentro del modelo de sklearn, lo cual hace que el algoritmo pondere cada clase de acuerdo a su frecuencia de aparición. Primero se realiza el preprocesamiento con codificación One-Hot."
   ]
  },
  {
   "cell_type": "code",
   "execution_count": 27,
   "metadata": {},
   "outputs": [],
   "source": [
    "features_train, features_valid, features_test, target_train, target_valid, target_test = segmentation(data_ohe)\n",
    "\n",
    "features_train, features_valid, features_test = scaling(features_train, features_valid, features_test)"
   ]
  },
  {
   "cell_type": "code",
   "execution_count": 28,
   "metadata": {},
   "outputs": [
    {
     "data": {
      "text/plain": [
       "LogisticRegression(class_weight='balanced', random_state=12345,\n",
       "                   solver='liblinear')"
      ]
     },
     "execution_count": 28,
     "metadata": {},
     "output_type": "execute_result"
    }
   ],
   "source": [
    "model = LogisticRegression(random_state=12345, solver='liblinear', class_weight='balanced')\n",
    "model.fit(features_train, target_train)"
   ]
  },
  {
   "cell_type": "markdown",
   "metadata": {},
   "source": [
    "Se calculan las predicciones para el conjunto de validación"
   ]
  },
  {
   "cell_type": "code",
   "execution_count": 29,
   "metadata": {},
   "outputs": [],
   "source": [
    "predicted_valid = model.predict(features_valid)"
   ]
  },
  {
   "cell_type": "markdown",
   "metadata": {},
   "source": [
    "Se calcula la probabilidad de que el cliente cancele la cuenta, es decir que 'Exited' sea 1. "
   ]
  },
  {
   "cell_type": "code",
   "execution_count": 30,
   "metadata": {},
   "outputs": [],
   "source": [
    "probabilities_valid = model.predict_proba(features_valid)\n",
    "probabilities_one_valid = probabilities_valid[:, 1]"
   ]
  },
  {
   "cell_type": "markdown",
   "metadata": {},
   "source": [
    " Se calcula el valor f1 y AUC ROC."
   ]
  },
  {
   "cell_type": "code",
   "execution_count": 31,
   "metadata": {},
   "outputs": [
    {
     "name": "stdout",
     "output_type": "stream",
     "text": [
      "                 model unbalance correction  F1 score   AUC ROC\n",
      "3  Logistic Regression         class weight  0.488851  0.763731\n"
     ]
    }
   ],
   "source": [
    "f1 = f1_score(target_valid, predicted_valid)\n",
    "auc = roc_auc_score(target_valid, probabilities_one_valid)\n",
    "reg_log1 = pd.DataFrame({\n",
    "    'model': 'Logistic Regression',\n",
    "    'unbalance correction' : 'class weight',\n",
    "    'F1 score': f1,\n",
    "    'AUC ROC': auc}, index=[3])\n",
    "\n",
    "print(reg_log1)"
   ]
  },
  {
   "cell_type": "markdown",
   "metadata": {},
   "source": [
    "El valor f1 mejora considerablemente respecto al modelo sin corrección."
   ]
  },
  {
   "cell_type": "markdown",
   "metadata": {},
   "source": [
    "Se calculan las tasas de falsos positivos y verdaderos positivos para diferentes umbrales."
   ]
  },
  {
   "cell_type": "code",
   "execution_count": 32,
   "metadata": {},
   "outputs": [],
   "source": [
    "fpr_reg_log1, tpr_reg_log1, thresholds_reg_log1 = roc_curve(target_valid, probabilities_one_valid)"
   ]
  },
  {
   "cell_type": "markdown",
   "metadata": {},
   "source": [
    "### Árbol de Decisión \n",
    "\n",
    "Para corregir el desequilibrio de clases para el modelo de Árbol de decisión se utilizan dos enfoques: sobremuestreo y submuestreo. A continuación se realiza el pre-procesamiento, nuevamente se utiliza codificación de etiquetas. "
   ]
  },
  {
   "cell_type": "code",
   "execution_count": 33,
   "metadata": {},
   "outputs": [],
   "source": [
    "features_train, features_valid, features_test, target_train, target_valid, target_test = segmentation(data_ordinal)\n",
    "\n",
    "features_train, features_valid, features_test = scaling(features_train, features_valid, features_test)"
   ]
  },
  {
   "cell_type": "markdown",
   "metadata": {},
   "source": [
    "**Sobremuestreo**\n",
    "A continuación se emplea el método de sobremuestreo con la ayuda de la función desarrollada anteriormente. Se varía el número de repetición para encontrar el parámetro más óptimo. También se prueban múltiples valores de profundidad y se muestran los parámetros con mejor resultado f1."
   ]
  },
  {
   "cell_type": "code",
   "execution_count": 34,
   "metadata": {
    "scrolled": true
   },
   "outputs": [
    {
     "name": "stdout",
     "output_type": "stream",
     "text": [
      "El modelo con mejor score f1 tiene una profundidad máxima de 5.El sobremuestreo más óptimo es con 3 repeticiones.\n",
      "\n",
      "           model unbalance correction  F1 score   AUC ROC\n",
      "4  Decision Tree             upsample    0.6082  0.830212\n"
     ]
    }
   ],
   "source": [
    "best_f1=0.0\n",
    "\n",
    "for repeat in range(2,5):\n",
    "    features_upsampled, target_upsampled = upsample(features_train, target_train, repeat)\n",
    "    for depth in range(1,11):\n",
    "        model = DecisionTreeClassifier(random_state=12345, max_depth=depth)\n",
    "        model.fit(features_upsampled, target_upsampled) #entrena el modelo\n",
    "        \n",
    "        predicted_valid = model.predict(features_valid) #predice para el conjunto de validación\n",
    "        probabilities_valid = model.predict_proba(features_valid) #calcula las probabilidades\n",
    "        probabilities_one_valid = probabilities_valid[:, 1] #extrae las probabilidades 'exited'=1\n",
    "        \n",
    "        f1 = f1_score(target_valid, predicted_valid) #calcula score f1\n",
    "        \n",
    "        if f1 > best_f1: #extrae el mejor score\n",
    "            best_f1 = f1\n",
    "            best_auc = roc_auc_score(target_valid, probabilities_one_valid)\n",
    "            best_depth = depth\n",
    "            best_repeat = repeat\n",
    "            #calcula la curva roc para el mejor modelo\n",
    "            fpr_dec_tree2, tpr_dec_tree2, thresholds_dec_tree2 = roc_curve(target_valid, probabilities_one_valid)\n",
    "    \n",
    "    \n",
    "dec_tree2 = pd.DataFrame({\n",
    "    'model': 'Decision Tree',\n",
    "    'unbalance correction' : 'upsample',\n",
    "    'F1 score': best_f1,\n",
    "    'AUC ROC': best_auc}, index=[4])\n",
    "\n",
    "print(f'El modelo con mejor score f1 tiene una profundidad máxima de {best_depth}.El sobremuestreo más óptimo es con {best_repeat} repeticiones.')\n",
    "print()\n",
    "print(dec_tree2)"
   ]
  },
  {
   "cell_type": "markdown",
   "metadata": {},
   "source": [
    "El valor f1 mejora en relación a todos los modelos anteriores. \n",
    "\n",
    "**Submuestreo**.\n",
    "A continuación se realiza un proceso análogo con el método de submuestreo para corregir el desequilibrio de clases. Se varían los valores de la fracción de submuestreo y la profundidad máxima."
   ]
  },
  {
   "cell_type": "code",
   "execution_count": 35,
   "metadata": {
    "scrolled": true
   },
   "outputs": [
    {
     "name": "stdout",
     "output_type": "stream",
     "text": [
      "El mejor modelo tiene 6 de profundidad\n",
      "El submuestreo más óptimo es con una fracción 0.6\n",
      "\n",
      "           model unbalance correction  F1 score   AUC ROC\n",
      "5  Decision Tree           downsample  0.581242  0.818313\n"
     ]
    }
   ],
   "source": [
    "best_f1=0.0\n",
    "\n",
    "for fraction in np.arange(0.1, 1.0, 0.1):\n",
    "    features_downsampled, target_downsampled = downsample(features_train, target_train, fraction)\n",
    "    for depth in range(1,11):\n",
    "        model = DecisionTreeClassifier(random_state=12345, max_depth=depth)\n",
    "        model.fit(features_downsampled, target_downsampled) #entrena el modelo\n",
    "        \n",
    "        predicted_valid = model.predict(features_valid) #predice para el conjunto de validación\n",
    "        probabilities_valid = model.predict_proba(features_valid) #calcula las probabilidades\n",
    "        probabilities_one_valid = probabilities_valid[:, 1] #extrae las probabilidades 'exited'=1\n",
    "        \n",
    "        f1 = f1_score(target_valid, predicted_valid) #calcula score f1\n",
    "        \n",
    "        if f1 > best_f1: #extrae el mejor score\n",
    "            best_f1 = f1\n",
    "            best_auc = roc_auc_score(target_valid, probabilities_one_valid)\n",
    "            best_depth = depth\n",
    "            best_fraction = fraction\n",
    "            #calcula la curva roc para el mejor modelo\n",
    "            fpr_dec_tree3, tpr_dec_tree3, thresholds_dec_tree3 = roc_curve(target_valid, probabilities_one_valid)\n",
    "    \n",
    "    \n",
    "dec_tree3 = pd.DataFrame({\n",
    "    'model': 'Decision Tree',\n",
    "    'unbalance correction' : 'downsample',\n",
    "    'F1 score': best_f1,\n",
    "    'AUC ROC': best_auc}, index=[5])\n",
    "\n",
    "print(f\"El mejor modelo tiene {best_depth} de profundidad\")\n",
    "print(f'El submuestreo más óptimo es con una fracción {best_fraction}')\n",
    "print()\n",
    "print(dec_tree3)"
   ]
  },
  {
   "cell_type": "markdown",
   "metadata": {},
   "source": [
    "El método con mejores resultados fue el sobremuestreo, sin embargo el método de submuestreo mejora respecto al modelo sin corrección."
   ]
  },
  {
   "cell_type": "markdown",
   "metadata": {},
   "source": [
    "### Bosque Aleatorio\n",
    "\n",
    "De igual manera que con el modelo anterior, se aplican los métodos de sobremuestreo y submuestreo para determinar cuál es el más óptimo.\n",
    "\n",
    "Primero se aplica el método de sobremuestreo. Se aplican diferentes valores para estimadores y profundidad para maximizar la calidad del modelo."
   ]
  },
  {
   "cell_type": "code",
   "execution_count": 44,
   "metadata": {
    "scrolled": true
   },
   "outputs": [
    {
     "name": "stdout",
     "output_type": "stream",
     "text": [
      "El mejor modelo de bosque tiene 50 estimadores y 6 de profundidad\n",
      "El sobremuestreo más óptimo es con 3 repeticiones.\n",
      "   f1 score,             AUC ROC\n",
      "           model unbalance correction  F1 score   AUC ROC\n",
      "6  Random Forest             upsample  0.634259  0.850719\n"
     ]
    }
   ],
   "source": [
    "best_f1=0.0\n",
    "\n",
    "for repeat in range(2,5):\n",
    "    features_upsampled, target_upsampled = upsample(features_train, target_train, repeat)\n",
    "    \n",
    "    for est in range(10, 101, 10):\n",
    "    \n",
    "        for depth in range(1,11): #para cada número de estimadores se establece el nivel de profundidad\n",
    "            \n",
    "            model = RandomForestClassifier(random_state=12345, n_estimators=est, max_depth=depth)# establece el modelo de bosque\n",
    "            \n",
    "            model.fit(features_upsampled, target_upsampled) # entrena el modelo en el conjunto de entrenamiento\n",
    "            \n",
    "            predicted_valid = model.predict(features_valid) #predice para el conjunto de validación\n",
    "            \n",
    "            f1 = f1_score(target_valid, predicted_valid) #calcula score f1\n",
    "            \n",
    "            if f1 > best_f1: #extrae el mejor score\n",
    "                best_f1 = f1\n",
    "                best_depth = depth\n",
    "                best_repeat = repeat\n",
    "                best_est = est\n",
    "                \n",
    "                probabilities_valid = model.predict_proba(features_valid) #calcula las probabilidades\n",
    "                probabilities_one_valid = probabilities_valid[:, 1] #extrae las probabilidades 'exited'=1\n",
    "                best_auc = roc_auc_score(target_valid, probabilities_one_valid)\n",
    "\n",
    "                #calcula la curva roc para el mejor modelo\n",
    "                fpr_rand_for2, tpr_rand_for2, thresholds_rand_for2 = roc_curve(target_valid, probabilities_one_valid)\n",
    "    \n",
    "    \n",
    "rand_for2 = pd.DataFrame({\n",
    "    'model': 'Random Forest',\n",
    "    'unbalance correction' : 'upsample',\n",
    "    'F1 score': best_f1,\n",
    "    'AUC ROC': best_auc}, index=[6])\n",
    "\n",
    "print(f\"El mejor modelo de bosque tiene {best_est} estimadores y {best_depth} de profundidad\")\n",
    "print(f'El sobremuestreo más óptimo es con {best_repeat} repeticiones.')\n",
    "print('   f1 score,             AUC ROC')\n",
    "print(rand_for2)"
   ]
  },
  {
   "cell_type": "markdown",
   "metadata": {},
   "source": [
    "A continuación se aplica el método de submuestreo para diferentes parámetros de fracción, estimadores y profundidad. "
   ]
  },
  {
   "cell_type": "code",
   "execution_count": 37,
   "metadata": {
    "scrolled": true
   },
   "outputs": [
    {
     "name": "stdout",
     "output_type": "stream",
     "text": [
      "El mejor modelo de bosque tiene  60 estimadores y 6 de profundidad\n",
      "El submuestreo más óptimo es con una fracción de 0.4.\n",
      "   f1 score,             AUC ROC\n",
      "           model unbalance correction  F1 score   AUC ROC\n",
      "7  Random Forest           downsample  0.632353  0.848372\n"
     ]
    }
   ],
   "source": [
    "best_f1=0.0\n",
    "\n",
    "for fraction in np.arange(0.1, 1.0, 0.1):\n",
    "    features_downsampled, target_downsampled = downsample(features_train, target_train, fraction)\n",
    "    \n",
    "    for est in range(10, 101, 10): #se crea un modelo para cada número de estimadores\n",
    "        \n",
    "        for depth in range(1,11): #para cada número de estimadores se establece el nivel de profundidad\n",
    "            \n",
    "            model = RandomForestClassifier(random_state=12345, n_estimators=est, max_depth=depth)# establece el modelo de bosque\n",
    "            \n",
    "            model.fit(features_downsampled, target_downsampled) # entrena el modelo en el conjunto de entrenamiento\n",
    "            \n",
    "            predicted_valid = model.predict(features_valid) #predice para el conjunto de validación\n",
    "            \n",
    "            f1 = f1_score(target_valid, predicted_valid) #calcula score f1\n",
    "            \n",
    "            if f1 > best_f1: #extrae el mejor score\n",
    "                best_f1 = f1\n",
    "                best_depth = depth\n",
    "                best_fraction = fraction\n",
    "                best_est = est\n",
    "                \n",
    "                probabilities_valid = model.predict_proba(features_valid) #calcula las probabilidades\n",
    "                probabilities_one_valid = probabilities_valid[:, 1] #extrae las probabilidades 'exited'=1\n",
    "                best_auc = roc_auc_score(target_valid, probabilities_one_valid)\n",
    "\n",
    "                #calcula la curva roc para el mejor modelo\n",
    "                fpr_rand_for3, tpr_rand_for3, thresholds_rand_for3 = roc_curve(target_valid, probabilities_one_valid)\n",
    "    \n",
    "    \n",
    "rand_for3 = pd.DataFrame({\n",
    "    'model': 'Random Forest',\n",
    "    'unbalance correction' : 'downsample',\n",
    "    'F1 score': best_f1,\n",
    "    'AUC ROC': best_auc}, index=[7])\n",
    "\n",
    "print(f\"El mejor modelo de bosque tiene  {best_est} estimadores y {best_depth} de profundidad\")\n",
    "print(f'El submuestreo más óptimo es con una fracción de {best_fraction}.')\n",
    "print('   f1 score,             AUC ROC')\n",
    "print(rand_for3)"
   ]
  },
  {
   "cell_type": "markdown",
   "metadata": {},
   "source": [
    "Ambos métodos dan mejores resultados que el modelo sin corrección."
   ]
  },
  {
   "cell_type": "markdown",
   "metadata": {},
   "source": [
    "## Resultados\n",
    "\n",
    "A continuación se muestran los valores f1 y AUC ROC para todos los modelos."
   ]
  },
  {
   "cell_type": "code",
   "execution_count": 45,
   "metadata": {},
   "outputs": [],
   "source": [
    "results = pd.concat([reg_log, dec_tree, rand_for, reg_log1, dec_tree2, dec_tree3, rand_for2, rand_for3])"
   ]
  },
  {
   "cell_type": "code",
   "execution_count": 46,
   "metadata": {},
   "outputs": [
    {
     "data": {
      "text/html": [
       "<div>\n",
       "<style scoped>\n",
       "    .dataframe tbody tr th:only-of-type {\n",
       "        vertical-align: middle;\n",
       "    }\n",
       "\n",
       "    .dataframe tbody tr th {\n",
       "        vertical-align: top;\n",
       "    }\n",
       "\n",
       "    .dataframe thead th {\n",
       "        text-align: right;\n",
       "    }\n",
       "</style>\n",
       "<table border=\"1\" class=\"dataframe\">\n",
       "  <thead>\n",
       "    <tr style=\"text-align: right;\">\n",
       "      <th></th>\n",
       "      <th>model</th>\n",
       "      <th>unbalance correction</th>\n",
       "      <th>F1 score</th>\n",
       "      <th>AUC ROC</th>\n",
       "    </tr>\n",
       "  </thead>\n",
       "  <tbody>\n",
       "    <tr>\n",
       "      <th>0</th>\n",
       "      <td>Logistic Regression</td>\n",
       "      <td>no correction</td>\n",
       "      <td>0.331081</td>\n",
       "      <td>0.758751</td>\n",
       "    </tr>\n",
       "    <tr>\n",
       "      <th>1</th>\n",
       "      <td>Decision Tree</td>\n",
       "      <td>no correction</td>\n",
       "      <td>0.552870</td>\n",
       "      <td>0.820301</td>\n",
       "    </tr>\n",
       "    <tr>\n",
       "      <th>2</th>\n",
       "      <td>Random Forest</td>\n",
       "      <td>no correction</td>\n",
       "      <td>0.571429</td>\n",
       "      <td>0.848919</td>\n",
       "    </tr>\n",
       "    <tr>\n",
       "      <th>3</th>\n",
       "      <td>Logistic Regression</td>\n",
       "      <td>class weight</td>\n",
       "      <td>0.488851</td>\n",
       "      <td>0.763731</td>\n",
       "    </tr>\n",
       "    <tr>\n",
       "      <th>4</th>\n",
       "      <td>Decision Tree</td>\n",
       "      <td>upsample</td>\n",
       "      <td>0.608200</td>\n",
       "      <td>0.830212</td>\n",
       "    </tr>\n",
       "    <tr>\n",
       "      <th>5</th>\n",
       "      <td>Decision Tree</td>\n",
       "      <td>downsample</td>\n",
       "      <td>0.581242</td>\n",
       "      <td>0.818313</td>\n",
       "    </tr>\n",
       "    <tr>\n",
       "      <th>6</th>\n",
       "      <td>Random Forest</td>\n",
       "      <td>upsample</td>\n",
       "      <td>0.634259</td>\n",
       "      <td>0.850719</td>\n",
       "    </tr>\n",
       "    <tr>\n",
       "      <th>7</th>\n",
       "      <td>Random Forest</td>\n",
       "      <td>downsample</td>\n",
       "      <td>0.632353</td>\n",
       "      <td>0.848372</td>\n",
       "    </tr>\n",
       "  </tbody>\n",
       "</table>\n",
       "</div>"
      ],
      "text/plain": [
       "                 model unbalance correction  F1 score   AUC ROC\n",
       "0  Logistic Regression        no correction  0.331081  0.758751\n",
       "1        Decision Tree        no correction  0.552870  0.820301\n",
       "2        Random Forest        no correction  0.571429  0.848919\n",
       "3  Logistic Regression         class weight  0.488851  0.763731\n",
       "4        Decision Tree             upsample  0.608200  0.830212\n",
       "5        Decision Tree           downsample  0.581242  0.818313\n",
       "6        Random Forest             upsample  0.634259  0.850719\n",
       "7        Random Forest           downsample  0.632353  0.848372"
      ]
     },
     "execution_count": 46,
     "metadata": {},
     "output_type": "execute_result"
    }
   ],
   "source": [
    "results"
   ]
  },
  {
   "cell_type": "markdown",
   "metadata": {},
   "source": [
    "Los modelos con correción para desequilibrio de clases se desempeñan mejor que los modelos sin corrección. El modelo con mayor puntaje f1 es el Bosque Aleatorio con corrección por sobremuestreo. La siguiente gráfica muestra las Curvas ROC para cada uno de los modelos optimizados."
   ]
  },
  {
   "cell_type": "code",
   "execution_count": 47,
   "metadata": {
    "scrolled": false
   },
   "outputs": [
    {
     "data": {
      "image/png": "[encoded data removed]",
      "text/plain": [
       "<Figure size 648x648 with 1 Axes>"
      ]
     },
     "metadata": {
      "needs_background": "light"
     },
     "output_type": "display_data"
    }
   ],
   "source": [
    "plt.figure(figsize=(9, 9))\n",
    "\n",
    "plt.plot(fpr_reg_log, tpr_reg_log, label='Logistic Regression')\n",
    "plt.plot(fpr_dec_tree, tpr_dec_tree, label='Decision Tree') \n",
    "plt.plot(fpr_rand_for, tpr_rand_for, label='Random Forest')  \n",
    "plt.plot(fpr_reg_log1, tpr_reg_log1, label='Logistic Regression corr')\n",
    "plt.plot(fpr_dec_tree2, tpr_dec_tree2, label='Decision Tree upsampled') \n",
    "plt.plot(fpr_dec_tree3, tpr_dec_tree3, label='Decision Tree downsampled') \n",
    "plt.plot(fpr_rand_for2, tpr_rand_for2, label='Random Forest upsampled') \n",
    "plt.plot(fpr_rand_for3, tpr_rand_for3, label='Random Forest downsampled') \n",
    "         \n",
    "# Curva ROC para modelo aleatorio \n",
    "plt.plot([0, 1], [0, 1], linestyle='--', label='Random Model')\n",
    "\n",
    "\n",
    "plt.xlim([0.0, 1.0])\n",
    "plt.ylim([0.0, 1.0])\n",
    "plt.xlabel('Tasa de falsos positivos')\n",
    "plt.ylabel('Tasa de verdaderos positivos')\n",
    "plt.title('Curvas ROC')\n",
    "plt.legend()\n",
    "\n",
    "plt.show()"
   ]
  },
  {
   "cell_type": "markdown",
   "metadata": {},
   "source": [
    "Gráfica de curvas ROC para cada uno de los modelos optimizados. La líne naranja sesgada muestra la curva correspondiente a un modelo aleatorio, cuanto más arriba está la curva mejor es el modelo. Se observa que el modelo con los mejores resultados se obtienen con el modelo de Bosque Aleatorio. El modelo con mayor AUC ROC se logra con corrección por sobremuestreo."
   ]
  },
  {
   "cell_type": "markdown",
   "metadata": {},
   "source": [
    "### Modelo final\n",
    "En base a los resultados anteriores, se aplica el modelo de Bosque Aleatorio, con codificación de etiquetas y sobremuestreo. Con número de estimadores 100 y profundidad máxima de 8."
   ]
  },
  {
   "cell_type": "code",
   "execution_count": 58,
   "metadata": {},
   "outputs": [],
   "source": [
    "features_train, features_valid, features_test, target_train, target_valid, target_test = segmentation(data_ordinal)\n",
    "\n",
    "features_train, features_valid, features_test = scaling(features_train, features_valid, features_test)"
   ]
  },
  {
   "cell_type": "code",
   "execution_count": 59,
   "metadata": {},
   "outputs": [
    {
     "data": {
      "text/plain": [
       "RandomForestClassifier(max_depth=8, random_state=12345)"
      ]
     },
     "execution_count": 59,
     "metadata": {},
     "output_type": "execute_result"
    }
   ],
   "source": [
    "features_upsampled, target_upsampled = upsample(features_train, target_train, 3)\n",
    "\n",
    "model = RandomForestClassifier(random_state=12345, n_estimators=100, max_depth=8)# establece el modelo de bosque\n",
    "            \n",
    "model.fit(features_upsampled, target_upsampled) "
   ]
  },
  {
   "cell_type": "code",
   "execution_count": 60,
   "metadata": {},
   "outputs": [
    {
     "name": "stdout",
     "output_type": "stream",
     "text": [
      "    F1               AUC ROC   \n",
      "0.6143187066974596 0.8538626323135017\n"
     ]
    }
   ],
   "source": [
    "predicted_test = model.predict(features_test) #predice para el conjunto de validación\n",
    "            \n",
    "f1 = f1_score(target_test, predicted_test)\n",
    "\n",
    "probabilities_test = model.predict_proba(features_test) #calcula las probabilidades\n",
    "probabilities_one_test = probabilities_test[:, 1] #extrae las probabilidades 'exited'=1\n",
    "\n",
    "auc = roc_auc_score(target_test, probabilities_one_test)\n",
    "\n",
    "print('    F1               AUC ROC   ')\n",
    "print(f1, auc)"
   ]
  },
  {
   "cell_type": "markdown",
   "metadata": {},
   "source": [
    "## Conclusiones\n",
    "\n",
    "Los modelos con correción para desequilibrio de clases se desempeñan mejor que los modelos sin corrección. El modelo con mayor puntaje f1 es el Bosque Aleatorio con corrección por submuestreo, sin embargo el que tiene el mejor puntaje AUC ROC es con sobremuestreo.\n",
    "\n",
    "Para el modelo final se optó por el modelo de Bosque Aleatorio, con 100 estimadores y profundidad máxima de 8. Se utiliza codificación de etiquetas y corrección con sobremuestreo con 3 repeticiones. El puntaje final f1 es de 0.614 y el AUC ROC de 0.853."
   ]
  }
 ],
 "metadata": {
  "kernelspec": {
   "display_name": "Python 3",
   "language": "python",
   "name": "python3"
  },
  "language_info": {
   "codemirror_mode": {
    "name": "ipython",
    "version": 3
   },
   "file_extension": ".py",
   "mimetype": "text/x-python",
   "name": "python",
   "nbconvert_exporter": "python",
   "pygments_lexer": "ipython3",
   "version": "3.8.5"
  }
 },
 "nbformat": 4,
 "nbformat_minor": 4
}
